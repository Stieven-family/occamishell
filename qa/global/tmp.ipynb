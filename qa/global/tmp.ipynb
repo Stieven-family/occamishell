{
 "cells": [
  {
   "cell_type": "code",
   "execution_count": 2,
   "metadata": {},
   "outputs": [],
   "source": [
    "import subprocess"
   ]
  },
  {
   "cell_type": "code",
   "execution_count": 3,
   "metadata": {},
   "outputs": [
    {
     "name": "stdout",
     "output_type": "stream",
     "text": [
      "prompt > 'echo 42'\n",
      "prompt > exit\n",
      "\n",
      "Command 'echo 42' not found\n",
      "\n"
     ]
    }
   ],
   "source": [
    "\n",
    "outfile = open(f\"outfile\", \"w\")\n",
    "errfile = open(f\"errfile\", \"w\")\n",
    "\n",
    "output = subprocess.run(f\"../../minishell < mini_infile\", stdout=subprocess.PIPE, stderr=subprocess.PIPE, text=True, shell=True)\n",
    "\n",
    "print(output.stdout)\n",
    "print(output.stderr)\n",
    "\n",
    "outfile.write(f\"{output.stdout}\\n\")\n",
    "errfile.write(f\"{output.stderr}\\n\")\n",
    "\n",
    "outfile.close()\n",
    "errfile.close()\n"
   ]
  }
 ],
 "metadata": {
  "kernelspec": {
   "display_name": "Python 3",
   "language": "python",
   "name": "python3"
  },
  "language_info": {
   "codemirror_mode": {
    "name": "ipython",
    "version": 3
   },
   "file_extension": ".py",
   "mimetype": "text/x-python",
   "name": "python",
   "nbconvert_exporter": "python",
   "pygments_lexer": "ipython3",
   "version": "3.8.10"
  }
 },
 "nbformat": 4,
 "nbformat_minor": 2
}
