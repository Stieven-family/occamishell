{
 "cells": [
  {
   "cell_type": "code",
   "execution_count": 2,
   "metadata": {},
   "outputs": [],
   "source": [
    "import subprocess"
   ]
  },
  {
   "cell_type": "code",
   "execution_count": 3,
   "metadata": {},
   "outputs": [
    {
     "name": "stdout",
     "output_type": "stream",
     "text": [
      "prompt > 'echo 42'\n",
      "prompt > exit\n",
      "\n",
      "Command 'echo 42' not found\n",
      "\n"
     ]
    }
   ],
   "source": [
    "\n",
    "outfile = open(f\"outfile\", \"w\")\n",
    "errfile = open(f\"errfile\", \"w\")\n",
    "\n",
    "output = subprocess.run(f\"../../minishell < mini_infile\", stdout=subprocess.PIPE, stderr=subprocess.PIPE, text=True, shell=True)\n",
    "\n",
    "print(output.stdout)\n",
    "print(output.stderr)\n",
    "\n",
    "outfile.write(f\"{output.stdout}\\n\")\n",
    "errfile.write(f\"{output.stderr}\\n\")\n",
    "\n",
    "outfile.close()\n",
    "errfile.close()\n"
   ]
  },
  {
   "cell_type": "code",
   "execution_count": 34,
   "metadata": {},
   "outputs": [
    {
     "name": "stdout",
     "output_type": "stream",
     "text": [
      "Modified lines: []\n"
     ]
    }
   ],
   "source": [
    "# Function to process the file content and modify it\n",
    "def process_and_modify_file(filename):\n",
    "    lines = []\n",
    "    with open(filename, 'r+') as file:\n",
    "        for line in file:\n",
    "            if 'prompt >' in line:\n",
    "                value = line.split(\"prompt >\")\n",
    "                if value[0] != '':\n",
    "                    lines.append(value[0])\n",
    "            else:\n",
    "                lines.append(line)\n",
    "        lines.pop()\n",
    "    return lines\n",
    "\n",
    "filename = 'outfile_tmp'\n",
    "lines = process_and_modify_file(filename)\n",
    "outfile = open('outfile', 'w')\n",
    "outfile.writelines(lines)\n",
    "outfile.close()\n",
    "print(\"Modified lines:\", lines)"
   ]
  }
 ],
 "metadata": {
  "kernelspec": {
   "display_name": "Python 3",
   "language": "python",
   "name": "python3"
  },
  "language_info": {
   "codemirror_mode": {
    "name": "ipython",
    "version": 3
   },
   "file_extension": ".py",
   "mimetype": "text/x-python",
   "name": "python",
   "nbconvert_exporter": "python",
   "pygments_lexer": "ipython3",
   "version": "3.8.10"
  }
 },
 "nbformat": 4,
 "nbformat_minor": 2
}
