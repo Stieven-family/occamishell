{
 "cells": [
  {
   "cell_type": "code",
   "execution_count": 21,
   "metadata": {},
   "outputs": [],
   "source": [
    "single_in = \"echo \\'Mephis e Fausto\\'\"\n",
    "double_in = \"echo \\'\\\"Mephis e Fausto\\\"\\'\"\n",
    "\n",
    "single_out = f\"echo;'Mephis e Fausto';\"\n",
    "double_out = f'echo;Mephis e Fausto;'\n",
    "\n",
    "pipe = \"cat -n infile | grep 'pattern'\""
   ]
  },
  {
   "cell_type": "code",
   "execution_count": 18,
   "metadata": {},
   "outputs": [
    {
     "name": "stdout",
     "output_type": "stream",
     "text": [
      "echo 'Mephis e Fausto'\n",
      "echo \"Mephis e Fausto\"\n"
     ]
    }
   ],
   "source": [
    "print(single_in)\n",
    "print(double_in)"
   ]
  },
  {
   "cell_type": "code",
   "execution_count": 22,
   "metadata": {},
   "outputs": [
    {
     "name": "stdout",
     "output_type": "stream",
     "text": [
      "./tokenizer \"echo '\"Mephis e Fausto\"'\"\n"
     ]
    }
   ],
   "source": [
    "print(f\"./tokenizer \\\"{double_in}\\\"\")"
   ]
  }
 ],
 "metadata": {
  "kernelspec": {
   "display_name": "Python 3",
   "language": "python",
   "name": "python3"
  },
  "language_info": {
   "codemirror_mode": {
    "name": "ipython",
    "version": 3
   },
   "file_extension": ".py",
   "mimetype": "text/x-python",
   "name": "python",
   "nbconvert_exporter": "python",
   "pygments_lexer": "ipython3",
   "version": "3.8.10"
  }
 },
 "nbformat": 4,
 "nbformat_minor": 2
}
