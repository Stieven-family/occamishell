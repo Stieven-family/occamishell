{
 "cells": [
  {
   "cell_type": "code",
   "execution_count": 24,
   "metadata": {},
   "outputs": [
    {
     "name": "stdout",
     "output_type": "stream",
     "text": [
      "Output1: prompt > Melvin\n",
      "\n",
      "Output2: Melvin\n",
      "\n",
      "Output3: prompt > Borges\n",
      "\n"
     ]
    }
   ],
   "source": [
    "import subprocess\n",
    "\n",
    "# Start the C program as a subprocess\n",
    "process = subprocess.Popen([\"./minishell\"], stdin=subprocess.PIPE, stdout=subprocess.PIPE, stderr=subprocess.PIPE, text=True)\n",
    "\n",
    "\n",
    "input_data = [\"Melvin\\n\", \"Borges\\n\", \"Julio\\n\"]\n",
    "outputs = []\n",
    "\n",
    "for data in input_data:\n",
    "\t# Send input to the C program\n",
    "\tprocess.stdin.write(data)\n",
    "\tprocess.stdin.flush()  # Make sure to flush the input buffer\n",
    "\n",
    "\t# Read output from the C program\n",
    "\toutput = process.stdout.readline()\n",
    "\toutputs.append(output)\n",
    "\n",
    "\t# # Optionally, you can read stderr as well\n",
    "\t# error = process.stderr.readline()\n",
    "\n",
    "\t# # Wait for the process to finish (optional)\n",
    "\t# process.wait()\n",
    "\n",
    "# # Print the output\n",
    "print(\"Output1:\", outputs[0])\n",
    "print(\"Output2:\", outputs[1])\n",
    "print(\"Output3:\", outputs[2])\n",
    "# print(\"Error:\", error)\n",
    "\n",
    "trash = subprocess.run('pkill minishell', stdout=subprocess.PIPE, stderr=subprocess.PIPE, shell=True)\n"
   ]
  },
  {
   "cell_type": "code",
   "execution_count": null,
   "metadata": {},
   "outputs": [],
   "source": []
  }
 ],
 "metadata": {
  "kernelspec": {
   "display_name": "Python 3",
   "language": "python",
   "name": "python3"
  },
  "language_info": {
   "codemirror_mode": {
    "name": "ipython",
    "version": 3
   },
   "file_extension": ".py",
   "mimetype": "text/x-python",
   "name": "python",
   "nbconvert_exporter": "python",
   "pygments_lexer": "ipython3",
   "version": "3.8.10"
  }
 },
 "nbformat": 4,
 "nbformat_minor": 2
}
