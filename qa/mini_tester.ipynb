{
 "cells": [
  {
   "cell_type": "code",
   "execution_count": 5,
   "metadata": {},
   "outputs": [],
   "source": [
    "import subprocess\n",
    "\n",
    "# Exit_status\n",
    "exit_status = 0\n",
    "\n",
    "# Command\n",
    "command = \"valgrind --leak-check=full --show-leak-kinds=all --track-origins=yes --suppressions=../readline.supp -q ../minishell\"\n",
    "\n",
    "# Colours\n",
    "GREEN = \"\\033[32;1m\"\n",
    "RED = \"\\033[31;1m\"\n",
    "COLOR_LIMITER = \"\\033[0m\"\n",
    "colours = [GREEN, RED, COLOR_LIMITER]"
   ]
  },
  {
   "cell_type": "code",
   "execution_count": 24,
   "metadata": {},
   "outputs": [],
   "source": [
    "def parrot(command, colours, exit_status):\n",
    "\n",
    "\t# Start the C program as a subprocess.\n",
    "\tprocess = subprocess.Popen(command, stdin=subprocess.PIPE, stdout=subprocess.PIPE, stderr=subprocess.PIPE, text=True, shell=True)\n",
    "\n",
    "\t# Inputs.\n",
    "\tinput_data = [\"1\\n\", \"2\\n\", \"3\\n\"]\n",
    "\toutput_ref = [\"1\\n\", \"2\\n\", \"3\\n\"]\n",
    "\n",
    "\t# lists for colection of outputs.\n",
    "\toutput_list = []\n",
    "\n",
    "\t# Send inputs to minishel prompt and collecting outputs.\n",
    "\tfor data in input_data:\n",
    "\n",
    "\t\t# Send input to the C program\n",
    "\t\tprocess.stdin.write(data)\n",
    "\t\tprocess.stdin.flush()  # Make sure to flush the input buffer\n",
    "\n",
    "\t\t# Read output from the C program\n",
    "\t\tprocess.stdout.readline()\n",
    "\t\toutput = process.stdout.readline()\n",
    "\t\toutput_list.append(output)\n",
    "\n",
    "\t# Close process and get valgrind error\n",
    "\tprocess.stdin.close()\n",
    "\tvalgrind_output = process.stderr.readline()\n",
    "\n",
    "\tprint(output_list)\n",
    "\tprint(valgrind_output)\n",
    "\n",
    "\t# Print the output\n",
    "\ti = 1\n",
    "\tfor output, ref in zip(output_list, output_ref):\n",
    "\t\tif (output == ref):\n",
    "\t\t\tprint(f\"{colours[0]}{i}/{len(input_data)}.\tOK  {colours[2]}\")\n",
    "\t\telse:\n",
    "\t\t\tprint(f\"{colours[1]}{i}/{len(input_data)}.\tKO  {colours[2]}\")\n",
    "\t\t\texit_status = 1\n",
    "\t\tif valgrind_output != '':\n",
    "\t\t\tprint(f\"{colours[1]}\tMKO{colours[2]}\")\n",
    "\t\telse:\n",
    "\t\t\tprint(f\"{colours[0]}\tMOK{colours[2]}\")\n",
    "\t\t\texit_status = 1\n",
    "\t\ti = i + 1\n",
    "\t\n",
    "\t# Kill minishel process.\n",
    "\tunused_trash = subprocess.run('pkill minishell', stdout=subprocess.PIPE, stderr=subprocess.PIPE, shell=True)\n"
   ]
  },
  {
   "cell_type": "code",
   "execution_count": 25,
   "metadata": {},
   "outputs": [
    {
     "name": "stdout",
     "output_type": "stream",
     "text": [
      "['Command not found: 1\\n', 'prompt > 2\\n', '(null)\\n']\n",
      "\n",
      "\u001b[31;1m1/3.\tKO  \u001b[0m\n",
      "\u001b[32;1m\tMOK\u001b[0m\n",
      "\u001b[31;1m2/3.\tKO  \u001b[0m\n",
      "\u001b[32;1m\tMOK\u001b[0m\n",
      "\u001b[31;1m3/3.\tKO  \u001b[0m\n",
      "\u001b[32;1m\tMOK\u001b[0m\n"
     ]
    }
   ],
   "source": [
    "parrot(command, colours, exit_status)"
   ]
  },
  {
   "cell_type": "code",
   "execution_count": 3,
   "metadata": {},
   "outputs": [
    {
     "ename": "FileNotFoundError",
     "evalue": "[Errno 2] No such file or directory: '../minishell > outfile'",
     "output_type": "error",
     "traceback": [
      "\u001b[0;31m---------------------------------------------------------------------------\u001b[0m",
      "\u001b[0;31mFileNotFoundError\u001b[0m                         Traceback (most recent call last)",
      "\u001b[1;32m/nfs/homes/josfelip/projects/minishell/qa/mini_tester.ipynb Cell 4\u001b[0m line \u001b[0;36m4\n\u001b[1;32m      <a href='vscode-notebook-cell:/nfs/homes/josfelip/projects/minishell/qa/mini_tester.ipynb#W4sZmlsZQ%3D%3D?line=0'>1</a>\u001b[0m \u001b[39mimport\u001b[39;00m \u001b[39msubprocess\u001b[39;00m\n\u001b[1;32m      <a href='vscode-notebook-cell:/nfs/homes/josfelip/projects/minishell/qa/mini_tester.ipynb#W4sZmlsZQ%3D%3D?line=2'>3</a>\u001b[0m \u001b[39m# Start the C program as a subprocess.\u001b[39;00m\n\u001b[0;32m----> <a href='vscode-notebook-cell:/nfs/homes/josfelip/projects/minishell/qa/mini_tester.ipynb#W4sZmlsZQ%3D%3D?line=3'>4</a>\u001b[0m process \u001b[39m=\u001b[39m subprocess\u001b[39m.\u001b[39;49mPopen([\u001b[39m\"\u001b[39;49m\u001b[39m../minishell > outfile\u001b[39;49m\u001b[39m\"\u001b[39;49m], stdin\u001b[39m=\u001b[39;49msubprocess\u001b[39m.\u001b[39;49mPIPE, stdout\u001b[39m=\u001b[39;49msubprocess\u001b[39m.\u001b[39;49mPIPE, stderr\u001b[39m=\u001b[39;49msubprocess\u001b[39m.\u001b[39;49mPIPE, text\u001b[39m=\u001b[39;49m\u001b[39mTrue\u001b[39;49;00m)\n",
      "File \u001b[0;32m/usr/lib/python3.8/subprocess.py:858\u001b[0m, in \u001b[0;36mPopen.__init__\u001b[0;34m(self, args, bufsize, executable, stdin, stdout, stderr, preexec_fn, close_fds, shell, cwd, env, universal_newlines, startupinfo, creationflags, restore_signals, start_new_session, pass_fds, encoding, errors, text)\u001b[0m\n\u001b[1;32m    854\u001b[0m         \u001b[39mif\u001b[39;00m \u001b[39mself\u001b[39m\u001b[39m.\u001b[39mtext_mode:\n\u001b[1;32m    855\u001b[0m             \u001b[39mself\u001b[39m\u001b[39m.\u001b[39mstderr \u001b[39m=\u001b[39m io\u001b[39m.\u001b[39mTextIOWrapper(\u001b[39mself\u001b[39m\u001b[39m.\u001b[39mstderr,\n\u001b[1;32m    856\u001b[0m                     encoding\u001b[39m=\u001b[39mencoding, errors\u001b[39m=\u001b[39merrors)\n\u001b[0;32m--> 858\u001b[0m     \u001b[39mself\u001b[39;49m\u001b[39m.\u001b[39;49m_execute_child(args, executable, preexec_fn, close_fds,\n\u001b[1;32m    859\u001b[0m                         pass_fds, cwd, env,\n\u001b[1;32m    860\u001b[0m                         startupinfo, creationflags, shell,\n\u001b[1;32m    861\u001b[0m                         p2cread, p2cwrite,\n\u001b[1;32m    862\u001b[0m                         c2pread, c2pwrite,\n\u001b[1;32m    863\u001b[0m                         errread, errwrite,\n\u001b[1;32m    864\u001b[0m                         restore_signals, start_new_session)\n\u001b[1;32m    865\u001b[0m \u001b[39mexcept\u001b[39;00m:\n\u001b[1;32m    866\u001b[0m     \u001b[39m# Cleanup if the child failed starting.\u001b[39;00m\n\u001b[1;32m    867\u001b[0m     \u001b[39mfor\u001b[39;00m f \u001b[39min\u001b[39;00m \u001b[39mfilter\u001b[39m(\u001b[39mNone\u001b[39;00m, (\u001b[39mself\u001b[39m\u001b[39m.\u001b[39mstdin, \u001b[39mself\u001b[39m\u001b[39m.\u001b[39mstdout, \u001b[39mself\u001b[39m\u001b[39m.\u001b[39mstderr)):\n",
      "File \u001b[0;32m/usr/lib/python3.8/subprocess.py:1704\u001b[0m, in \u001b[0;36mPopen._execute_child\u001b[0;34m(self, args, executable, preexec_fn, close_fds, pass_fds, cwd, env, startupinfo, creationflags, shell, p2cread, p2cwrite, c2pread, c2pwrite, errread, errwrite, restore_signals, start_new_session)\u001b[0m\n\u001b[1;32m   1702\u001b[0m     \u001b[39mif\u001b[39;00m errno_num \u001b[39m!=\u001b[39m \u001b[39m0\u001b[39m:\n\u001b[1;32m   1703\u001b[0m         err_msg \u001b[39m=\u001b[39m os\u001b[39m.\u001b[39mstrerror(errno_num)\n\u001b[0;32m-> 1704\u001b[0m     \u001b[39mraise\u001b[39;00m child_exception_type(errno_num, err_msg, err_filename)\n\u001b[1;32m   1705\u001b[0m \u001b[39mraise\u001b[39;00m child_exception_type(err_msg)\n",
      "\u001b[0;31mFileNotFoundError\u001b[0m: [Errno 2] No such file or directory: '../minishell > outfile'"
     ]
    }
   ],
   "source": [
    "import subprocess\n",
    "\n",
    "# Start the C program as a subprocess.\n",
    "process = subprocess.Popen([\"../minishell\"], stdin=subprocess.PIPE, stdout=subprocess.PIPE, stderr=subprocess.PIPE, text=True)"
   ]
  },
  {
   "cell_type": "code",
   "execution_count": 6,
   "metadata": {},
   "outputs": [
    {
     "name": "stdout",
     "output_type": "stream",
     "text": [
      "./tokenizer 'echo -n Mephis'\n"
     ]
    }
   ],
   "source": [
    "# Inputs:\n",
    "command_alone = \"echo\"\n",
    "command_with_arguments = \"echo -n Mephis\"\n",
    "redirect_command_output =\"echo -n Mephis > outfile\"\n",
    "redirect_command_output_append =\"echo -n Mephis >> outfile\"\n",
    "redirect_command_input = \"cat -e < infile\\n\"\n",
    "redirect_command_output_and_input = \"> outfile cat -e < infile\\n\"\n",
    "output_redirect_alone_with_space = \"> outfile\\n\"\n",
    "output_redirect_alone_no_space = \">outfile\\n\"\n",
    "input_redirect_alone_with_space = \"< infile\\n\"\n",
    "input_redirect_alone_no_space = \"<infile\\n\"\n",
    "\n",
    "input_data = [command_alone, command_with_arguments, redirect_command_output, \\\n",
    "\t\t\tredirect_command_output_append, redirect_command_input, \\\n",
    "\t\t\tredirect_command_output_and_input, output_redirect_alone_with_space, \\\n",
    "\t\t\tinput_redirect_alone_with_space, input_redirect_alone_no_space]\n",
    "\n",
    "print(f\"./tokenizer '{command_with_arguments}'\")"
   ]
  },
  {
   "cell_type": "code",
   "execution_count": 6,
   "metadata": {},
   "outputs": [
    {
     "name": "stdout",
     "output_type": "stream",
     "text": [
      "<class 'str'>\n"
     ]
    }
   ],
   "source": [
    "# Example string variable\n",
    "content1 = \"melvin\"\n",
    "content2 = \"julio\"\n",
    "\n",
    "# Open a file in write mode\n",
    "with open('output.txt', 'w') as file:\n",
    "    # Write the string content to the file\n",
    "    file.write(content1)\n",
    "    \n",
    "# Open a file in write mode\n",
    "with open('output.txt', 'w') as file:\n",
    "    # Write the string content to the file\n",
    "    file.write(content2)\n",
    "\n",
    "# Open the file in read mode\n",
    "with open('output.txt', 'r') as file:\n",
    "    # Read the entire content of the file\n",
    "    content = file.read()\n",
    "\n",
    "print(type(content))"
   ]
  }
 ],
 "metadata": {
  "kernelspec": {
   "display_name": "Python 3",
   "language": "python",
   "name": "python3"
  },
  "language_info": {
   "codemirror_mode": {
    "name": "ipython",
    "version": 3
   },
   "file_extension": ".py",
   "mimetype": "text/x-python",
   "name": "python",
   "nbconvert_exporter": "python",
   "pygments_lexer": "ipython3",
   "version": "3.8.10"
  }
 },
 "nbformat": 4,
 "nbformat_minor": 2
}
