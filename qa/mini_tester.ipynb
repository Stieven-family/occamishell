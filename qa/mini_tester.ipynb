{
 "cells": [
  {
   "cell_type": "code",
   "execution_count": 9,
   "metadata": {},
   "outputs": [
    {
     "name": "stdout",
     "output_type": "stream",
     "text": [
      "\u001b[32;1m1/1.\tOK  \u001b[0m\n",
      "\u001b[32;1m1/1.\tOK  \u001b[0m\n",
      "\u001b[32;1m1/1.\tOK  \u001b[0m\n"
     ]
    }
   ],
   "source": [
    "import subprocess\n",
    "\n",
    "# Colours\n",
    "GREEN = \"\\033[32;1m\"\n",
    "RED = \"\\033[31;1m\"\n",
    "COLOR_LIMITER = \"\\033[0m\"\n",
    "colours = [GREEN, RED, COLOR_LIMITER]\n",
    "\n",
    "# Start the C program as a subprocess.\n",
    "process = subprocess.Popen([\"../minishell\"], stdin=subprocess.PIPE, stdout=subprocess.PIPE, stderr=subprocess.PIPE, text=True)\n",
    "\n",
    "# Valgrind.\n",
    "valgrind = \"valgrind --leak-check=full --show-leak-kinds=all --track-origins=yes --suppressions=readline.supp\"\n",
    "\n",
    "# Inputs.\n",
    "input_data = [\"1\\n\", \"2\\n\", \"3\\n\"]\n",
    "output_ref = [\"1\\n\", \"2\\n\", \"3\\n\"]\n",
    "\n",
    "# lists for colection of outputs.\n",
    "output_list = []\n",
    "# error_list = []\n",
    "\n",
    "# Send inputs to minishel prompt and collecting outputs.\n",
    "for data in input_data:\n",
    "\t# Send input to the C program\n",
    "\tprocess.stdin.write(data)\n",
    "\tprocess.stdin.flush()  # Make sure to flush the input buffer\n",
    "\n",
    "\t# Read output from the C program\n",
    "\tprocess.stdout.readline()\n",
    "\toutput = process.stdout.readline()\n",
    "\toutput_list.append(output)\n",
    "\n",
    "\t# Optionally, you can read stderr as well\n",
    "\t# error = process.stderr.readline()\n",
    "\t# error_list.append(error)\n",
    "\n",
    "# Print the output\n",
    "i = 1\n",
    "for output, ref in zip(output_list, output_ref):\n",
    "\tif (output == ref):\n",
    "\t\tprint(f\"{colours[0]}1/1.\tOK  {colours[2]}\")\n",
    "\telse:\n",
    "\t\tprint(f\"{colours[1]}1/1.\tKO  {colours[2]}\")\n",
    "\t\texit_status = 1\n",
    "\t# if valgrind_check in output_val:\n",
    "\t# \tprint(f\"{colours[0]}\tMOK{colours[2]}\")\n",
    "\t# else:\n",
    "\t# \tprint(f\"{colours[1]}   MKO{colours[2]}\")\n",
    "\t# print(f\"output{i}: {output}\")\n",
    "\t# print(f\"error{i}: {error}\")\n",
    "\ti = i + 1\n",
    "\n",
    "# Kill minishel process.\n",
    "unused_trash = subprocess.run('pkill minishell', stdout=subprocess.PIPE, stderr=subprocess.PIPE, shell=True)"
   ]
  },
  {
   "cell_type": "code",
   "execution_count": 7,
   "metadata": {},
   "outputs": [
    {
     "ename": "FileNotFoundError",
     "evalue": "[Errno 2] No such file or directory: 'inputs.txt'",
     "output_type": "error",
     "traceback": [
      "\u001b[0;31m---------------------------------------------------------------------------\u001b[0m",
      "\u001b[0;31mFileNotFoundError\u001b[0m                         Traceback (most recent call last)",
      "\u001b[1;32m/nfs/homes/josfelip/projects/minishell/qa/mini_tester.ipynb Cell 2\u001b[0m line \u001b[0;36m2\n\u001b[1;32m      <a href='vscode-notebook-cell:/nfs/homes/josfelip/projects/minishell/qa/mini_tester.ipynb#W1sZmlsZQ%3D%3D?line=0'>1</a>\u001b[0m \u001b[39m# Open the file in read mode\u001b[39;00m\n\u001b[0;32m----> <a href='vscode-notebook-cell:/nfs/homes/josfelip/projects/minishell/qa/mini_tester.ipynb#W1sZmlsZQ%3D%3D?line=1'>2</a>\u001b[0m \u001b[39mwith\u001b[39;00m \u001b[39mopen\u001b[39;49m(\u001b[39m'\u001b[39;49m\u001b[39minputs.txt\u001b[39;49m\u001b[39m'\u001b[39;49m, \u001b[39m'\u001b[39;49m\u001b[39mr\u001b[39;49m\u001b[39m'\u001b[39;49m) \u001b[39mas\u001b[39;00m file:\n\u001b[1;32m      <a href='vscode-notebook-cell:/nfs/homes/josfelip/projects/minishell/qa/mini_tester.ipynb#W1sZmlsZQ%3D%3D?line=2'>3</a>\u001b[0m     \u001b[39m# Read the contents of the file\u001b[39;00m\n\u001b[1;32m      <a href='vscode-notebook-cell:/nfs/homes/josfelip/projects/minishell/qa/mini_tester.ipynb#W1sZmlsZQ%3D%3D?line=3'>4</a>\u001b[0m     file_contents \u001b[39m=\u001b[39m file\u001b[39m.\u001b[39mread()\n\u001b[1;32m      <a href='vscode-notebook-cell:/nfs/homes/josfelip/projects/minishell/qa/mini_tester.ipynb#W1sZmlsZQ%3D%3D?line=5'>6</a>\u001b[0m \u001b[39m# Print the contents (optional)\u001b[39;00m\n",
      "File \u001b[0;32m~/.local/lib/python3.8/site-packages/IPython/core/interactiveshell.py:284\u001b[0m, in \u001b[0;36m_modified_open\u001b[0;34m(file, *args, **kwargs)\u001b[0m\n\u001b[1;32m    277\u001b[0m \u001b[39mif\u001b[39;00m file \u001b[39min\u001b[39;00m {\u001b[39m0\u001b[39m, \u001b[39m1\u001b[39m, \u001b[39m2\u001b[39m}:\n\u001b[1;32m    278\u001b[0m     \u001b[39mraise\u001b[39;00m \u001b[39mValueError\u001b[39;00m(\n\u001b[1;32m    279\u001b[0m         \u001b[39mf\u001b[39m\u001b[39m\"\u001b[39m\u001b[39mIPython won\u001b[39m\u001b[39m'\u001b[39m\u001b[39mt let you open fd=\u001b[39m\u001b[39m{\u001b[39;00mfile\u001b[39m}\u001b[39;00m\u001b[39m by default \u001b[39m\u001b[39m\"\u001b[39m\n\u001b[1;32m    280\u001b[0m         \u001b[39m\"\u001b[39m\u001b[39mas it is likely to crash IPython. If you know what you are doing, \u001b[39m\u001b[39m\"\u001b[39m\n\u001b[1;32m    281\u001b[0m         \u001b[39m\"\u001b[39m\u001b[39myou can use builtins\u001b[39m\u001b[39m'\u001b[39m\u001b[39m open.\u001b[39m\u001b[39m\"\u001b[39m\n\u001b[1;32m    282\u001b[0m     )\n\u001b[0;32m--> 284\u001b[0m \u001b[39mreturn\u001b[39;00m io_open(file, \u001b[39m*\u001b[39;49margs, \u001b[39m*\u001b[39;49m\u001b[39m*\u001b[39;49mkwargs)\n",
      "\u001b[0;31mFileNotFoundError\u001b[0m: [Errno 2] No such file or directory: 'inputs.txt'"
     ]
    }
   ],
   "source": [
    "# Open the file in read mode\n",
    "with open('inputs.txt', 'r') as file:\n",
    "    # Read the contents of the file\n",
    "    file_contents = file.read()\n",
    "\n",
    "# Print the contents (optional)\n",
    "i = 1\n",
    "for content in file_contents:\n",
    "\tprint(f\"{i}.{content}\")\n",
    "\ti = i + 1\n",
    "# Now file_contents contains the contents of the file"
   ]
  },
  {
   "cell_type": "code",
   "execution_count": 15,
   "metadata": {},
   "outputs": [
    {
     "name": "stdout",
     "output_type": "stream",
     "text": [
      "\u001b[31;1m1/1.\tKO  \u001b[0m\n",
      "\u001b[31;1m1/1.\tKO  \u001b[0m\n",
      "\u001b[31;1m1/1.\tKO  \u001b[0m\n",
      "output_list: ['', '', '']\n"
     ]
    }
   ],
   "source": [
    "import subprocess\n",
    "\n",
    "# Colours\n",
    "GREEN = \"\\033[32;1m\"\n",
    "RED = \"\\033[31;1m\"\n",
    "COLOR_LIMITER = \"\\033[0m\"\n",
    "colours = [GREEN, RED, COLOR_LIMITER]\n",
    "\n",
    "# Valgrind.\n",
    "valgrind = \"valgrind --quiet --leak-check=full --show-leak-kinds=all --track-origins=yes --suppressions=readline.supp\"\n",
    "\n",
    "# Start the C program as a subprocess.\n",
    "arg = valgrind + \" ../minishell\"\n",
    "process = subprocess.Popen(arg, stdin=subprocess.PIPE, stdout=subprocess.PIPE, stderr=subprocess.PIPE, text=True, shell=True)\n",
    "\n",
    "# Inputs.\n",
    "input_data = [\"1\\n\", \"2\\n\", \"3\\n\"]\n",
    "output_ref = [\"1\\n\", \"2\\n\", \"3\\n\"]\n",
    "\n",
    "# lists for colection of outputs.\n",
    "output_list = []\n",
    "error_list = []\n",
    "\n",
    "# Send inputs to minishel prompt and collecting outputs.\n",
    "for data in input_data:\n",
    "\t# Send input to the C program\n",
    "\tprocess.stdin.write(data)\n",
    "\t#process.stdin.flush()  # Make sure to flush the input buffer\n",
    "\n",
    "\t# Read output from the C program\n",
    "\tprocess.stdout.readline()\n",
    "\toutput = process.stdout.readline()\n",
    "\toutput_list.append(output)\n",
    "\n",
    "\t# Optionally, you can read stderr as well\n",
    "\terror = process.stderr.readline()\n",
    "\terror_list.append(error)\n",
    "\n",
    "# Print the output\n",
    "i = 1\n",
    "for output, ref in zip(output_list, output_ref):\n",
    "\tif (output == ref):\n",
    "\t\tprint(f\"{colours[0]}1/1.\tOK  {colours[2]}\")\n",
    "\telse:\n",
    "\t\tprint(f\"{colours[1]}1/1.\tKO  {colours[2]}\")\n",
    "\t\texit_status = 1\n",
    "\t# if valgrind_check in output_val:\n",
    "\t# \tprint(f\"{colours[0]}\tMOK{colours[2]}\")\n",
    "\t# else:\n",
    "\t# \tprint(f\"{colours[1]}   MKO{colours[2]}\")\n",
    "\t# print(f\"output{i}: {output}\")\n",
    "\t# print(f\"error{i}: {error}\")\n",
    "\ti = i + 1\n",
    "\n",
    "print(f\"output_list: {output_list}\")\n",
    "\n",
    "\n",
    "# Kill minishel process.\n",
    "unused_trash = subprocess.run('pkill minishell', stdout=subprocess.PIPE, stderr=subprocess.PIPE, shell=True)"
   ]
  },
  {
   "cell_type": "code",
   "execution_count": 3,
   "metadata": {},
   "outputs": [
    {
     "ename": "FileNotFoundError",
     "evalue": "[Errno 2] No such file or directory: '../minishell > outfile'",
     "output_type": "error",
     "traceback": [
      "\u001b[0;31m---------------------------------------------------------------------------\u001b[0m",
      "\u001b[0;31mFileNotFoundError\u001b[0m                         Traceback (most recent call last)",
      "\u001b[1;32m/nfs/homes/josfelip/projects/minishell/qa/mini_tester.ipynb Cell 4\u001b[0m line \u001b[0;36m4\n\u001b[1;32m      <a href='vscode-notebook-cell:/nfs/homes/josfelip/projects/minishell/qa/mini_tester.ipynb#W4sZmlsZQ%3D%3D?line=0'>1</a>\u001b[0m \u001b[39mimport\u001b[39;00m \u001b[39msubprocess\u001b[39;00m\n\u001b[1;32m      <a href='vscode-notebook-cell:/nfs/homes/josfelip/projects/minishell/qa/mini_tester.ipynb#W4sZmlsZQ%3D%3D?line=2'>3</a>\u001b[0m \u001b[39m# Start the C program as a subprocess.\u001b[39;00m\n\u001b[0;32m----> <a href='vscode-notebook-cell:/nfs/homes/josfelip/projects/minishell/qa/mini_tester.ipynb#W4sZmlsZQ%3D%3D?line=3'>4</a>\u001b[0m process \u001b[39m=\u001b[39m subprocess\u001b[39m.\u001b[39;49mPopen([\u001b[39m\"\u001b[39;49m\u001b[39m../minishell > outfile\u001b[39;49m\u001b[39m\"\u001b[39;49m], stdin\u001b[39m=\u001b[39;49msubprocess\u001b[39m.\u001b[39;49mPIPE, stdout\u001b[39m=\u001b[39;49msubprocess\u001b[39m.\u001b[39;49mPIPE, stderr\u001b[39m=\u001b[39;49msubprocess\u001b[39m.\u001b[39;49mPIPE, text\u001b[39m=\u001b[39;49m\u001b[39mTrue\u001b[39;49;00m)\n",
      "File \u001b[0;32m/usr/lib/python3.8/subprocess.py:858\u001b[0m, in \u001b[0;36mPopen.__init__\u001b[0;34m(self, args, bufsize, executable, stdin, stdout, stderr, preexec_fn, close_fds, shell, cwd, env, universal_newlines, startupinfo, creationflags, restore_signals, start_new_session, pass_fds, encoding, errors, text)\u001b[0m\n\u001b[1;32m    854\u001b[0m         \u001b[39mif\u001b[39;00m \u001b[39mself\u001b[39m\u001b[39m.\u001b[39mtext_mode:\n\u001b[1;32m    855\u001b[0m             \u001b[39mself\u001b[39m\u001b[39m.\u001b[39mstderr \u001b[39m=\u001b[39m io\u001b[39m.\u001b[39mTextIOWrapper(\u001b[39mself\u001b[39m\u001b[39m.\u001b[39mstderr,\n\u001b[1;32m    856\u001b[0m                     encoding\u001b[39m=\u001b[39mencoding, errors\u001b[39m=\u001b[39merrors)\n\u001b[0;32m--> 858\u001b[0m     \u001b[39mself\u001b[39;49m\u001b[39m.\u001b[39;49m_execute_child(args, executable, preexec_fn, close_fds,\n\u001b[1;32m    859\u001b[0m                         pass_fds, cwd, env,\n\u001b[1;32m    860\u001b[0m                         startupinfo, creationflags, shell,\n\u001b[1;32m    861\u001b[0m                         p2cread, p2cwrite,\n\u001b[1;32m    862\u001b[0m                         c2pread, c2pwrite,\n\u001b[1;32m    863\u001b[0m                         errread, errwrite,\n\u001b[1;32m    864\u001b[0m                         restore_signals, start_new_session)\n\u001b[1;32m    865\u001b[0m \u001b[39mexcept\u001b[39;00m:\n\u001b[1;32m    866\u001b[0m     \u001b[39m# Cleanup if the child failed starting.\u001b[39;00m\n\u001b[1;32m    867\u001b[0m     \u001b[39mfor\u001b[39;00m f \u001b[39min\u001b[39;00m \u001b[39mfilter\u001b[39m(\u001b[39mNone\u001b[39;00m, (\u001b[39mself\u001b[39m\u001b[39m.\u001b[39mstdin, \u001b[39mself\u001b[39m\u001b[39m.\u001b[39mstdout, \u001b[39mself\u001b[39m\u001b[39m.\u001b[39mstderr)):\n",
      "File \u001b[0;32m/usr/lib/python3.8/subprocess.py:1704\u001b[0m, in \u001b[0;36mPopen._execute_child\u001b[0;34m(self, args, executable, preexec_fn, close_fds, pass_fds, cwd, env, startupinfo, creationflags, shell, p2cread, p2cwrite, c2pread, c2pwrite, errread, errwrite, restore_signals, start_new_session)\u001b[0m\n\u001b[1;32m   1702\u001b[0m     \u001b[39mif\u001b[39;00m errno_num \u001b[39m!=\u001b[39m \u001b[39m0\u001b[39m:\n\u001b[1;32m   1703\u001b[0m         err_msg \u001b[39m=\u001b[39m os\u001b[39m.\u001b[39mstrerror(errno_num)\n\u001b[0;32m-> 1704\u001b[0m     \u001b[39mraise\u001b[39;00m child_exception_type(errno_num, err_msg, err_filename)\n\u001b[1;32m   1705\u001b[0m \u001b[39mraise\u001b[39;00m child_exception_type(err_msg)\n",
      "\u001b[0;31mFileNotFoundError\u001b[0m: [Errno 2] No such file or directory: '../minishell > outfile'"
     ]
    }
   ],
   "source": [
    "import subprocess\n",
    "\n",
    "# Start the C program as a subprocess.\n",
    "process = subprocess.Popen([\"../minishell\"], stdin=subprocess.PIPE, stdout=subprocess.PIPE, stderr=subprocess.PIPE, text=True)"
   ]
  }
 ],
 "metadata": {
  "kernelspec": {
   "display_name": "Python 3",
   "language": "python",
   "name": "python3"
  },
  "language_info": {
   "codemirror_mode": {
    "name": "ipython",
    "version": 3
   },
   "file_extension": ".py",
   "mimetype": "text/x-python",
   "name": "python",
   "nbconvert_exporter": "python",
   "pygments_lexer": "ipython3",
   "version": "3.8.10"
  }
 },
 "nbformat": 4,
 "nbformat_minor": 2
}
