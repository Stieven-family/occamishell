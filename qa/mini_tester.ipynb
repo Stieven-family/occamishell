{
 "cells": [
  {
   "cell_type": "code",
   "execution_count": null,
   "metadata": {},
   "outputs": [],
   "source": [
    "import subprocess\n",
    "\n",
    "# Start the C program as a subprocess.\n",
    "process = subprocess.Popen([\"../minishell\"], stdin=subprocess.PIPE, stdout=subprocess.PIPE, stderr=subprocess.PIPE, text=True)\n",
    "\n",
    "# Valgrind.\n",
    "valgrind = \"valgrind --leak-check=full --show-leak-kinds=all --track-origins=yes --suppressions=readline.supp\"\n",
    "\n",
    "# Inputs.\n",
    "input_data = [\"1\\n\", \"2\\n\", \"3\\n\",  \"\\n\", \"\\n\", \"\\n\"]\n",
    "\n",
    "# lists for colection of outputs.\n",
    "output_list = []\n",
    "# error_list = []\n",
    "\n",
    "# Send inputs to minishel prompt and collecting outputs.\n",
    "for data in input_data:\n",
    "\t# Send input to the C program\n",
    "\tprocess.stdin.write(data)\n",
    "\tprocess.stdin.flush()  # Make sure to flush the input buffer\n",
    "\n",
    "\t# Read output from the C program\n",
    "\toutput = process.stdout.readline()\n",
    "\toutput_list.append(output)\n",
    "\n",
    "\t# Optionally, you can read stderr as well\n",
    "\t# error = process.stderr.readline()\n",
    "\t# error_list.append(error)\n",
    "\n",
    "# Print the output\n",
    "i = 1\n",
    "for output in output_list:\n",
    "\tprint(f\"output{i}: {output}\")\n",
    "\t# print(f\"error{i}: {error}\")\n",
    "\ti = i + 1\n",
    "\n",
    "# Kill minishel process.\n",
    "unused_trash = subprocess.run('pkill minishell', stdout=subprocess.PIPE, stderr=subprocess.PIPE, shell=True)"
   ]
  },
  {
   "cell_type": "code",
   "execution_count": null,
   "metadata": {},
   "outputs": [],
   "source": [
    "# Open the file in read mode\n",
    "with open('inputs.txt', 'r') as file:\n",
    "    # Read the contents of the file\n",
    "    file_contents = file.read()\n",
    "\n",
    "# Print the contents (optional)\n",
    "i = 1\n",
    "for content in file_contents:\n",
    "\tprint(f\"{i}.{content}\")\n",
    "\ti = i + 1\n",
    "# Now file_contents contains the contents of the file"
   ]
  }
 ],
 "metadata": {
  "kernelspec": {
   "display_name": "Python 3",
   "language": "python",
   "name": "python3"
  },
  "language_info": {
   "codemirror_mode": {
    "name": "ipython",
    "version": 3
   },
   "file_extension": ".py",
   "mimetype": "text/x-python",
   "name": "python",
   "nbconvert_exporter": "python",
   "pygments_lexer": "ipython3",
   "version": "3.8.10"
  }
 },
 "nbformat": 4,
 "nbformat_minor": 2
}
