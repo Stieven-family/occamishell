{
 "cells": [
  {
   "cell_type": "code",
   "execution_count": 5,
   "metadata": {},
   "outputs": [],
   "source": [
    "import subprocess\n",
    "\n",
    "# Exit_status\n",
    "exit_status = 0\n",
    "\n",
    "# Command\n",
    "command = \"valgrind --leak-check=full --show-leak-kinds=all --track-origins=yes --suppressions=../readline.supp -q ../minishell\"\n",
    "\n",
    "# Colours\n",
    "GREEN = \"\\033[32;1m\"\n",
    "RED = \"\\033[31;1m\"\n",
    "COLOR_LIMITER = \"\\033[0m\"\n",
    "colours = [GREEN, RED, COLOR_LIMITER]"
   ]
  },
  {
   "cell_type": "code",
   "execution_count": 24,
   "metadata": {},
   "outputs": [],
   "source": [
    "def parrot(command, colours, exit_status):\n",
    "\n",
    "\t# Start the C program as a subprocess.\n",
    "\tprocess = subprocess.Popen(command, stdin=subprocess.PIPE, stdout=subprocess.PIPE, stderr=subprocess.PIPE, text=True, shell=True)\n",
    "\n",
    "\t# Inputs.\n",
    "\tinput_data = [\"1\\n\", \"2\\n\", \"3\\n\"]\n",
    "\toutput_ref = [\"1\\n\", \"2\\n\", \"3\\n\"]\n",
    "\n",
    "\t# lists for colection of outputs.\n",
    "\toutput_list = []\n",
    "\n",
    "\t# Send inputs to minishel prompt and collecting outputs.\n",
    "\tfor data in input_data:\n",
    "\n",
    "\t\t# Send input to the C program\n",
    "\t\tprocess.stdin.write(data)\n",
    "\t\tprocess.stdin.flush()  # Make sure to flush the input buffer\n",
    "\n",
    "\t\t# Read output from the C program\n",
    "\t\tprocess.stdout.readline()\n",
    "\t\toutput = process.stdout.readline()\n",
    "\t\toutput_list.append(output)\n",
    "\n",
    "\t# Close process and get valgrind error\n",
    "\tprocess.stdin.close()\n",
    "\tvalgrind_output = process.stderr.readline()\n",
    "\n",
    "\tprint(output_list)\n",
    "\tprint(valgrind_output)\n",
    "\n",
    "\t# Print the output\n",
    "\ti = 1\n",
    "\tfor output, ref in zip(output_list, output_ref):\n",
    "\t\tif (output == ref):\n",
    "\t\t\tprint(f\"{colours[0]}{i}/{len(input_data)}.\tOK  {colours[2]}\")\n",
    "\t\telse:\n",
    "\t\t\tprint(f\"{colours[1]}{i}/{len(input_data)}.\tKO  {colours[2]}\")\n",
    "\t\t\texit_status = 1\n",
    "\t\tif valgrind_output != '':\n",
    "\t\t\tprint(f\"{colours[1]}\tMKO{colours[2]}\")\n",
    "\t\telse:\n",
    "\t\t\tprint(f\"{colours[0]}\tMOK{colours[2]}\")\n",
    "\t\t\texit_status = 1\n",
    "\t\ti = i + 1\n",
    "\t\n",
    "\t# Kill minishel process.\n",
    "\tunused_trash = subprocess.run('pkill minishell', stdout=subprocess.PIPE, stderr=subprocess.PIPE, shell=True)\n"
   ]
  },
  {
   "cell_type": "code",
   "execution_count": 25,
   "metadata": {},
   "outputs": [
    {
     "name": "stdout",
     "output_type": "stream",
     "text": [
      "['Command not found: 1\\n', 'prompt > 2\\n', '(null)\\n']\n",
      "\n",
      "\u001b[31;1m1/3.\tKO  \u001b[0m\n",
      "\u001b[32;1m\tMOK\u001b[0m\n",
      "\u001b[31;1m2/3.\tKO  \u001b[0m\n",
      "\u001b[32;1m\tMOK\u001b[0m\n",
      "\u001b[31;1m3/3.\tKO  \u001b[0m\n",
      "\u001b[32;1m\tMOK\u001b[0m\n"
     ]
    }
   ],
   "source": [
    "parrot(command, colours, exit_status)"
   ]
  }
 ],
 "metadata": {
  "kernelspec": {
   "display_name": "Python 3",
   "language": "python",
   "name": "python3"
  },
  "language_info": {
   "codemirror_mode": {
    "name": "ipython",
    "version": 3
   },
   "file_extension": ".py",
   "mimetype": "text/x-python",
   "name": "python",
   "nbconvert_exporter": "python",
   "pygments_lexer": "ipython3",
   "version": "3.8.10"
  }
 },
 "nbformat": 4,
 "nbformat_minor": 2
}
